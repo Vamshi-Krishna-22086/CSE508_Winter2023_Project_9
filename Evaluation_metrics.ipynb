{
 "cells": [
  {
   "cell_type": "code",
   "execution_count": 91,
   "metadata": {},
   "outputs": [],
   "source": [
    "import pandas as pd"
   ]
  },
  {
   "cell_type": "code",
   "execution_count": 92,
   "metadata": {},
   "outputs": [],
   "source": [
    "df = pd.read_csv('final_results_by_BERT.csv')"
   ]
  },
  {
   "cell_type": "code",
   "execution_count": 93,
   "metadata": {},
   "outputs": [
    {
     "data": {
      "text/html": [
       "<div>\n",
       "<style scoped>\n",
       "    .dataframe tbody tr th:only-of-type {\n",
       "        vertical-align: middle;\n",
       "    }\n",
       "\n",
       "    .dataframe tbody tr th {\n",
       "        vertical-align: top;\n",
       "    }\n",
       "\n",
       "    .dataframe thead th {\n",
       "        text-align: right;\n",
       "    }\n",
       "</style>\n",
       "<table border=\"1\" class=\"dataframe\">\n",
       "  <thead>\n",
       "    <tr style=\"text-align: right;\">\n",
       "      <th></th>\n",
       "      <th>review_text</th>\n",
       "      <th>aspect_by_BERT</th>\n",
       "      <th>sentiment</th>\n",
       "      <th>sentiment_strength</th>\n",
       "      <th>product_name</th>\n",
       "      <th>product_type</th>\n",
       "      <th>rating</th>\n",
       "      <th>initial_sentiment</th>\n",
       "      <th>normal_sentiment_score</th>\n",
       "      <th>normal_sentiment</th>\n",
       "      <th>rating_by_normal_sentiment</th>\n",
       "      <th>aspect_ratings</th>\n",
       "      <th>aspect_rating_by_BERT_sentiment</th>\n",
       "    </tr>\n",
       "  </thead>\n",
       "  <tbody>\n",
       "    <tr>\n",
       "      <th>0</th>\n",
       "      <td>dr oz accomplished heart surgeon field cardiac...</td>\n",
       "      <td>['dean ornish']</td>\n",
       "      <td>['Positive']</td>\n",
       "      <td>[[0.0006767544546164572, 0.0004284284368623048...</td>\n",
       "      <td>healing from the heart</td>\n",
       "      <td>books</td>\n",
       "      <td>4</td>\n",
       "      <td>positive</td>\n",
       "      <td>0.9300</td>\n",
       "      <td>positive</td>\n",
       "      <td>5</td>\n",
       "      <td>{'transplantation': 4, 'epilogue': 4, 'medicin...</td>\n",
       "      <td>{'dean ornish': 4}</td>\n",
       "    </tr>\n",
       "    <tr>\n",
       "      <th>1</th>\n",
       "      <td>gorgeous artwork comic books contains extraord...</td>\n",
       "      <td>['artwork']</td>\n",
       "      <td>['Positive']</td>\n",
       "      <td>[[0.003452055621892214, 0.00021875665697734803...</td>\n",
       "      <td>mythology</td>\n",
       "      <td>books</td>\n",
       "      <td>5</td>\n",
       "      <td>positive</td>\n",
       "      <td>0.9118</td>\n",
       "      <td>positive</td>\n",
       "      <td>5</td>\n",
       "      <td>{'books': 4, 'artwork': 3}</td>\n",
       "      <td>{'artwork': 4}</td>\n",
       "    </tr>\n",
       "    <tr>\n",
       "      <th>2</th>\n",
       "      <td>going short sweet review many others commented...</td>\n",
       "      <td>['picture']</td>\n",
       "      <td>['Positive']</td>\n",
       "      <td>[[0.07295969128608704, 0.0005088011967018247, ...</td>\n",
       "      <td>guns germs and steel</td>\n",
       "      <td>books</td>\n",
       "      <td>5</td>\n",
       "      <td>positive</td>\n",
       "      <td>0.9912</td>\n",
       "      <td>positive</td>\n",
       "      <td>5</td>\n",
       "      <td>{'review': 4, 'others': 2, 'value': 3, 'though...</td>\n",
       "      <td>{'picture': 4}</td>\n",
       "    </tr>\n",
       "    <tr>\n",
       "      <th>3</th>\n",
       "      <td>since worlds fair fanatic read almost everythi...</td>\n",
       "      <td>['interior']</td>\n",
       "      <td>['Positive']</td>\n",
       "      <td>[[0.37773197889328003, 0.003444268833845854, 0...</td>\n",
       "      <td>worlds fairs and the end of progress</td>\n",
       "      <td>books</td>\n",
       "      <td>4</td>\n",
       "      <td>positive</td>\n",
       "      <td>0.9633</td>\n",
       "      <td>positive</td>\n",
       "      <td>5</td>\n",
       "      <td>{'worlds': 4, 'read': 4, 'book_author': 3, 'er...</td>\n",
       "      <td>{'interior': 4}</td>\n",
       "    </tr>\n",
       "    <tr>\n",
       "      <th>4</th>\n",
       "      <td>one book taught use slr cameras manual itself ...</td>\n",
       "      <td>['lenses', 'fit']</td>\n",
       "      <td>['Negative', 'Positive']</td>\n",
       "      <td>[[0.9923324584960938, 0.003380761481821537, 0....</td>\n",
       "      <td>teach yourself photography</td>\n",
       "      <td>books</td>\n",
       "      <td>4</td>\n",
       "      <td>positive</td>\n",
       "      <td>0.9584</td>\n",
       "      <td>positive</td>\n",
       "      <td>5</td>\n",
       "      <td>{'arrangement_chapters': 3, 'way': 4, 'lenses'...</td>\n",
       "      <td>{'lenses': 1, 'fit': 4}</td>\n",
       "    </tr>\n",
       "  </tbody>\n",
       "</table>\n",
       "</div>"
      ],
      "text/plain": [
       "                                         review_text     aspect_by_BERT   \n",
       "0  dr oz accomplished heart surgeon field cardiac...    ['dean ornish']  \\\n",
       "1  gorgeous artwork comic books contains extraord...        ['artwork']   \n",
       "2  going short sweet review many others commented...        ['picture']   \n",
       "3  since worlds fair fanatic read almost everythi...       ['interior']   \n",
       "4  one book taught use slr cameras manual itself ...  ['lenses', 'fit']   \n",
       "\n",
       "                  sentiment   \n",
       "0              ['Positive']  \\\n",
       "1              ['Positive']   \n",
       "2              ['Positive']   \n",
       "3              ['Positive']   \n",
       "4  ['Negative', 'Positive']   \n",
       "\n",
       "                                  sentiment_strength   \n",
       "0  [[0.0006767544546164572, 0.0004284284368623048...  \\\n",
       "1  [[0.003452055621892214, 0.00021875665697734803...   \n",
       "2  [[0.07295969128608704, 0.0005088011967018247, ...   \n",
       "3  [[0.37773197889328003, 0.003444268833845854, 0...   \n",
       "4  [[0.9923324584960938, 0.003380761481821537, 0....   \n",
       "\n",
       "                           product_name product_type  rating   \n",
       "0                healing from the heart        books       4  \\\n",
       "1                             mythology        books       5   \n",
       "2                  guns germs and steel        books       5   \n",
       "3  worlds fairs and the end of progress        books       4   \n",
       "4            teach yourself photography        books       4   \n",
       "\n",
       "  initial_sentiment  normal_sentiment_score normal_sentiment   \n",
       "0          positive                  0.9300         positive  \\\n",
       "1          positive                  0.9118         positive   \n",
       "2          positive                  0.9912         positive   \n",
       "3          positive                  0.9633         positive   \n",
       "4          positive                  0.9584         positive   \n",
       "\n",
       "   rating_by_normal_sentiment   \n",
       "0                           5  \\\n",
       "1                           5   \n",
       "2                           5   \n",
       "3                           5   \n",
       "4                           5   \n",
       "\n",
       "                                      aspect_ratings   \n",
       "0  {'transplantation': 4, 'epilogue': 4, 'medicin...  \\\n",
       "1                         {'books': 4, 'artwork': 3}   \n",
       "2  {'review': 4, 'others': 2, 'value': 3, 'though...   \n",
       "3  {'worlds': 4, 'read': 4, 'book_author': 3, 'er...   \n",
       "4  {'arrangement_chapters': 3, 'way': 4, 'lenses'...   \n",
       "\n",
       "  aspect_rating_by_BERT_sentiment  \n",
       "0              {'dean ornish': 4}  \n",
       "1                  {'artwork': 4}  \n",
       "2                  {'picture': 4}  \n",
       "3                 {'interior': 4}  \n",
       "4         {'lenses': 1, 'fit': 4}  "
      ]
     },
     "execution_count": 93,
     "metadata": {},
     "output_type": "execute_result"
    }
   ],
   "source": [
    "df.head()"
   ]
  },
  {
   "cell_type": "code",
   "execution_count": 94,
   "metadata": {},
   "outputs": [],
   "source": [
    "from sklearn.metrics import accuracy_score"
   ]
  },
  {
   "cell_type": "code",
   "execution_count": 95,
   "metadata": {},
   "outputs": [],
   "source": [
    "ground_truth = df['rating']\n",
    "rating_by_nlp_result = df['rating_by_normal_sentiment']"
   ]
  },
  {
   "cell_type": "code",
   "execution_count": 96,
   "metadata": {},
   "outputs": [],
   "source": [
    "acc = accuracy_score(ground_truth,rating_by_nlp_result)"
   ]
  },
  {
   "cell_type": "markdown",
   "metadata": {},
   "source": [
    "### Baseline Accuracy"
   ]
  },
  {
   "cell_type": "code",
   "execution_count": 97,
   "metadata": {},
   "outputs": [
    {
     "name": "stdout",
     "output_type": "stream",
     "text": [
      "Baseline Accuracy 0.7307\n"
     ]
    }
   ],
   "source": [
    "baseline_results = pd.read_excel('baseline_results.xlsx')\n",
    "baseline_results_ground_truth = baseline_results['initial_sentiment']\n",
    "baseline_results_result = baseline_results['normal_sentiment']\n",
    "\n",
    "acc_baseline = accuracy_score(baseline_results_ground_truth,baseline_results_result)\n",
    "print('Baseline Accuracy',acc_baseline)"
   ]
  },
  {
   "cell_type": "code",
   "execution_count": 98,
   "metadata": {},
   "outputs": [
    {
     "data": {
      "text/plain": [
       "(Index(['Unnamed: 0', 'product_name', 'review_text', 'rating',\n",
       "        'initial_sentiment', 'normal_sentiment_score', 'normal_sentiment',\n",
       "        'rating_by_normal_sentiment', 'aspect_ratings'],\n",
       "       dtype='object'),\n",
       " Index(['review_text', 'aspect_by_BERT', 'sentiment', 'sentiment_strength',\n",
       "        'product_name', 'product_type', 'rating', 'initial_sentiment',\n",
       "        'normal_sentiment_score', 'normal_sentiment',\n",
       "        'rating_by_normal_sentiment', 'aspect_ratings',\n",
       "        'aspect_rating_by_BERT_sentiment'],\n",
       "       dtype='object'))"
      ]
     },
     "execution_count": 98,
     "metadata": {},
     "output_type": "execute_result"
    }
   ],
   "source": [
    "baseline_results.columns,df.columns"
   ]
  },
  {
   "cell_type": "markdown",
   "metadata": {},
   "source": [
    "### Accuracy on Improved NLP based sentiment extraction"
   ]
  },
  {
   "cell_type": "code",
   "execution_count": 99,
   "metadata": {},
   "outputs": [
    {
     "name": "stdout",
     "output_type": "stream",
     "text": [
      "Final Model NLP(technique based) 0.9538780343398461\n"
     ]
    }
   ],
   "source": [
    "df = pd.read_csv('final_results_by_BERT.csv')\n",
    "final_results_ground_truth = df['initial_sentiment']\n",
    "final_results_pred = df['normal_sentiment']\n",
    "\n",
    "acc_final = accuracy_score(final_results_ground_truth,final_results_pred)\n",
    "print('Final Model NLP(technique based)',acc_final)"
   ]
  },
  {
   "cell_type": "code",
   "execution_count": 100,
   "metadata": {},
   "outputs": [],
   "source": [
    "row = df.iloc[4]"
   ]
  },
  {
   "cell_type": "code",
   "execution_count": 101,
   "metadata": {},
   "outputs": [
    {
     "data": {
      "text/plain": [
       "review_text                        one book taught use slr cameras manual itself ...\n",
       "aspect_by_BERT                                                     ['lenses', 'fit']\n",
       "sentiment                                                   ['Negative', 'Positive']\n",
       "sentiment_strength                 [[0.9923324584960938, 0.003380761481821537, 0....\n",
       "product_name                                              teach yourself photography\n",
       "product_type                                                                   books\n",
       "rating                                                                             4\n",
       "initial_sentiment                                                           positive\n",
       "normal_sentiment_score                                                        0.9584\n",
       "normal_sentiment                                                            positive\n",
       "rating_by_normal_sentiment                                                         5\n",
       "aspect_ratings                     {'arrangement_chapters': 3, 'way': 4, 'lenses'...\n",
       "aspect_rating_by_BERT_sentiment                              {'lenses': 1, 'fit': 4}\n",
       "Name: 4, dtype: object"
      ]
     },
     "execution_count": 101,
     "metadata": {},
     "output_type": "execute_result"
    }
   ],
   "source": [
    "row"
   ]
  },
  {
   "cell_type": "code",
   "execution_count": 102,
   "metadata": {},
   "outputs": [],
   "source": [
    "def calculate_bert_sentiment(row):\n",
    "    positive_score = 0\n",
    "    negative_score = 0\n",
    "    neutral_score  = 0\n",
    "\n",
    "    positive_count = 0\n",
    "    negative_count = 0\n",
    "    neutral_count = 0\n",
    "\n",
    "    for index,sentiment in enumerate(eval(row['sentiment'])):\n",
    "        sentiment_scores = eval(row['sentiment_strength'])[index]\n",
    "\n",
    "        if sentiment == 'Positive':\n",
    "            positive_score = positive_score + sentiment_scores[2]\n",
    "            positive_count+=1\n",
    "        if sentiment == 'Negative':\n",
    "            negative_score = negative_score + sentiment_scores[0]\n",
    "            negative_count+=1\n",
    "        else:\n",
    "            neutral_score = neutral_score + sentiment_scores[1]\n",
    "            neutral_count+=1\n",
    "        \n",
    "    if positive_count > 0:\n",
    "        positive_score = positive_score/positive_count\n",
    "    \n",
    "    if negative_count > 0:\n",
    "        negative_score = negative_score/negative_count\n",
    "    \n",
    "    if neutral_count > 0:\n",
    "        neutral_score = negative_score/neutral_count\n",
    "\n",
    "    if positive_score == max(positive_score,negative_score,neutral_score):\n",
    "        return 'Positive'\n",
    "    if negative_score == max(positive_score,negative_score,neutral_score):\n",
    "        return 'Negative'\n",
    "    if neutral_score == max(positive_score,negative_score,neutral_score):\n",
    "        return 'Neutral'"
   ]
  },
  {
   "cell_type": "code",
   "execution_count": 103,
   "metadata": {},
   "outputs": [],
   "source": [
    "bert_sentiments = df.apply(calculate_bert_sentiment,axis='columns')"
   ]
  },
  {
   "cell_type": "markdown",
   "metadata": {},
   "source": [
    "### Accuracy on Sentiment Extraction Bert based"
   ]
  },
  {
   "cell_type": "code",
   "execution_count": 104,
   "metadata": {},
   "outputs": [
    {
     "name": "stdout",
     "output_type": "stream",
     "text": [
      "Final model Bert Based 0.9538780343398461\n"
     ]
    }
   ],
   "source": [
    "df = pd.read_csv('final_results_by_BERT.csv')\n",
    "final_results_ground_truth = df['initial_sentiment']\n",
    "\n",
    "acc_final_bert = accuracy_score(final_results_ground_truth,bert_sentiments)\n",
    "print('Final model Bert Based',acc_final)"
   ]
  },
  {
   "cell_type": "code",
   "execution_count": null,
   "metadata": {},
   "outputs": [],
   "source": []
  }
 ],
 "metadata": {
  "kernelspec": {
   "display_name": "pytorch_deep_learning",
   "language": "python",
   "name": "python3"
  },
  "language_info": {
   "codemirror_mode": {
    "name": "ipython",
    "version": 3
   },
   "file_extension": ".py",
   "mimetype": "text/x-python",
   "name": "python",
   "nbconvert_exporter": "python",
   "pygments_lexer": "ipython3",
   "version": "3.9.16"
  },
  "orig_nbformat": 4
 },
 "nbformat": 4,
 "nbformat_minor": 2
}
