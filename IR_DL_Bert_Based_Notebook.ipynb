{
  "cells": [
    {
      "cell_type": "markdown",
      "metadata": {
        "id": "GIi_Lm8fP4lZ"
      },
      "source": [
        "# Aspect term extraction and sentiment classification via [PyABSA](https://github.com/yangheng95/PyABSA)\n",
        "More usages see [here](https://github.com/yangheng95/PyABSA/tree/release/demos/aspect_term_extraction)"
      ]
    },
    {
      "cell_type": "markdown",
      "metadata": {
        "id": "XwAQ49808JdA"
      },
      "source": [
        "**Reviews Examples**\n",
        "\n",
        "1.   Camera quality is very good but battery drains fast\n",
        "2.   Staff was very rude but food was delicious\n",
        "\n",
        "\n"
      ]
    },
    {
      "cell_type": "code",
      "execution_count": null,
      "metadata": {
        "id": "u9qtNy3ePgzd"
      },
      "outputs": [],
      "source": [
        "!pip install pyabsa"
      ]
    },
    {
      "cell_type": "markdown",
      "metadata": {
        "id": "gQ6c9MQlP1xo"
      },
      "source": [
        "## Find Available Checkpoints For **Current Version**"
      ]
    },
    {
      "cell_type": "code",
      "execution_count": null,
      "metadata": {
        "id": "iTyTYSOGQd-h"
      },
      "outputs": [],
      "source": [
        "from pyabsa import available_checkpoints\n",
        "checkpoint_map = available_checkpoints()"
      ]
    },
    {
      "cell_type": "markdown",
      "metadata": {
        "id": "mbIUc1IdQ-rr"
      },
      "source": [
        "# Init a aspect extractor from online checkpoint or local checkpoint"
      ]
    },
    {
      "cell_type": "code",
      "execution_count": null,
      "metadata": {
        "id": "F3P3j_q-SYV-"
      },
      "outputs": [],
      "source": [
        "from pyabsa import ATEPCCheckpointManager\n",
        "\n",
        "aspect_extractor = ATEPCCheckpointManager.get_aspect_extractor(checkpoint='english',\n",
        "                                   auto_device=True  # False means load model on CPU\n",
        "                                   )"
      ]
    },
    {
      "cell_type": "markdown",
      "metadata": {
        "id": "8i24adlqTqC4"
      },
      "source": [
        "# Aspect Term Extract & Sentiment Inference"
      ]
    },
    {
      "cell_type": "code",
      "execution_count": null,
      "metadata": {},
      "outputs": [],
      "source": [
        "import pandas as pd\n",
        "import os"
      ]
    },
    {
      "cell_type": "code",
      "execution_count": null,
      "metadata": {},
      "outputs": [],
      "source": [
        "df = pd.read_excel('final_processed_results.xlsx',engine='openpyxl')\n",
        "examples = list(df['review_text'])"
      ]
    },
    {
      "cell_type": "code",
      "execution_count": null,
      "metadata": {
        "colab": {
          "base_uri": "https://localhost:8080/"
        },
        "id": "zcCbXGKPTvBS",
        "outputId": "0cad76da-cb42-43b4-9c5d-d99f62137568"
      },
      "outputs": [],
      "source": [
        "\n",
        "# You can inference from a list of setences or a DatasetItem from PyABSA \n",
        "#examples = ['Staff was very rude but food was delicious']\n",
        "inference_source = examples\n",
        "atepc_result = aspect_extractor.extract_aspect(inference_source=inference_source,  #\n",
        "                          pred_sentiment=True,  # Predict the sentiment of extracted aspect terms\n",
        "                          )"
      ]
    },
    {
      "cell_type": "code",
      "execution_count": null,
      "metadata": {
        "colab": {
          "base_uri": "https://localhost:8080/"
        },
        "id": "9c5KMuwJ6ipD",
        "outputId": "7697ee2e-808d-4d8a-c471-03ba58e45d38"
      },
      "outputs": [],
      "source": [
        "atepc_result[100]"
      ]
    },
    {
      "cell_type": "code",
      "execution_count": null,
      "metadata": {
        "id": "-oyqULBM_ZAh"
      },
      "outputs": [],
      "source": [
        "results = pd.DataFrame(data=atepc_result)"
      ]
    },
    {
      "cell_type": "code",
      "execution_count": null,
      "metadata": {},
      "outputs": [],
      "source": [
        "results.to_csv(\"atepc_results.csv\",index=False)"
      ]
    },
    {
      "cell_type": "code",
      "execution_count": null,
      "metadata": {},
      "outputs": [],
      "source": []
    }
  ],
  "metadata": {
    "accelerator": "GPU",
    "colab": {
      "collapsed_sections": [],
      "name": "Aspect Based Sentiment Analysis.ipynb",
      "provenance": []
    },
    "gpuClass": "standard",
    "kernelspec": {
      "display_name": "Python 3",
      "name": "python3"
    },
    "language_info": {
      "codemirror_mode": {
        "name": "ipython",
        "version": 3
      },
      "file_extension": ".py",
      "mimetype": "text/x-python",
      "name": "python",
      "nbconvert_exporter": "python",
      "pygments_lexer": "ipython3",
      "version": "3.9.16"
    }
  },
  "nbformat": 4,
  "nbformat_minor": 0
}
